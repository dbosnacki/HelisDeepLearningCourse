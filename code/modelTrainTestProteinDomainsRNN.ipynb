{
  "nbformat": 4,
  "nbformat_minor": 0,
  "metadata": {
    "colab": {
      "name": "modelTrainTestProteinDomainsRNN.ipynb",
      "provenance": [],
      "collapsed_sections": [],
      "include_colab_link": true
    },
    "kernelspec": {
      "name": "python3",
      "display_name": "Python 3"
    }
  },
  "cells": [
    {
      "cell_type": "markdown",
      "metadata": {
        "id": "view-in-github",
        "colab_type": "text"
      },
      "source": [
        "<a href=\"https://colab.research.google.com/github/dbosnacki/HelisDeepLearningCourse/blob/main/modelTrainTestProteinDomainsRNN.ipynb\" target=\"_parent\"><img src=\"https://colab.research.google.com/assets/colab-badge.svg\" alt=\"Open In Colab\"/></a>"
      ]
    },
    {
      "cell_type": "code",
      "metadata": {
        "id": "2oGiut-5Yl5j"
      },
      "source": [
        "import time\n",
        "import csv\n",
        "import numpy as np\n",
        "import tensorflow as tf\n",
        "from tensorflow import keras\n",
        "from tensorflow.keras import layers\n",
        "from tensorflow.keras import optimizers\n",
        "import tensorflow.keras.backend as K\n",
        "from sklearn.model_selection import StratifiedKFold\n",
        "from sklearn.model_selection import train_test_split\n",
        "import os\n",
        "import pandas as pd\n",
        "from sklearn.preprocessing import OneHotEncoder\n",
        "\n"
      ],
      "execution_count": 2,
      "outputs": []
    },
    {
      "cell_type": "code",
      "metadata": {
        "id": "7gGWAJT3SBBy",
        "outputId": "f0c7dd6f-e257-4b6a-8ae6-8acdc8957132",
        "colab": {
          "base_uri": "https://localhost:8080/",
          "height": 34
        }
      },
      "source": [
        "#\"\"\" Loading, padding and one-hot encoding of the data\"\"\"\n",
        "\n",
        "url = 'https://raw.githubusercontent.com/dbosnacki/HelisDeepLearningCourse/main/cath-domain-description-file-v2_4ProcessedForNN.tsv' \n",
        "df = pd.read_csv(url, delimiter = \"\\t\", header=None)\n",
        "\n",
        "# extract the sequences list from the data frame\n",
        "sequences = list(df[3])\n",
        "\n",
        "# find the maximal sequence length\n",
        "maxSeqLength = 0\n",
        "for sequence in sequences:\n",
        "    l = len(sequence)\n",
        "    if l > maxSeqLength:\n",
        "      maxSeqLength = l            \n",
        "    \n",
        "# padd the sequences with spaces to get equal length\n",
        "dataset = []\n",
        "\n",
        "for sequence in sequences:\n",
        "    dataset.append(list(sequence.ljust(maxSeqLength, ' ')))\n",
        "    \n",
        "#one hot encoding of the data\n",
        "cat = OneHotEncoder()\n",
        "dataset = cat.fit_transform(dataset).toarray()\n",
        "\n",
        "labels = list(df[2])    \n",
        "\n",
        "X = dataset[:, :, np.newaxis]\n",
        "y = np.array(labels)\n",
        "\n",
        "print(X.shape)\n",
        "\n",
        "X_train, X_test, y_train, y_test = train_test_split(X, y, test_size=0.2, random_state=42)\n",
        "\n",
        "accuracy_per_fold = []\n",
        "loss_per_fold = []\n",
        "\n",
        "fold_no = 1\n",
        "seed = 10\n",
        "skf = StratifiedKFold(n_splits=5, shuffle=True, random_state=seed)\n",
        "\n"
      ],
      "execution_count": 4,
      "outputs": [
        {
          "output_type": "stream",
          "text": [
            "(94785, 1539, 1)\n"
          ],
          "name": "stdout"
        }
      ]
    },
    {
      "cell_type": "code",
      "metadata": {
        "id": "EvvZYrjKSSs8",
        "outputId": "502a88bf-3014-44a5-c36f-04d29a80a6ee",
        "colab": {
          "base_uri": "https://localhost:8080/",
          "height": 51
        }
      },
      "source": [
        "for train_index, val_index in skf.split(X_train, y_train):\n",
        "    \n",
        "    print('Fold: ' + str(fold_no))\n",
        "    \n",
        "\n",
        "    # Define RNN model \n",
        "    model = keras.Sequential(\n",
        "        [\n",
        "           layers.LSTM(128, activation=\"relu\", name=\"rnn1\"),\n",
        "           #layers.Dense(64, activation=\"relu\", name=\"layer2\"),\n",
        "           layers.Dense(3, activation=\"softmax\", name=\"output\"),\n",
        "           #\n",
        "           # layers.Dense(1024, input_shape = (len(X_train[0]), ), activation=\"relu\", name=\"layer1\"),\n",
        "           # layers.Dense(256, activation=\"relu\", name=\"layer2\"),\n",
        "           # layers.Dense(64, activation=\"relu\", name=\"layer3\"),\n",
        "           # layers.Dense(4, activation=\"relu\", name=\"layer4\"),\n",
        "           # layers.Dense(3, activation=\"sigmoid\", name=\"layer5\"),\n",
        "           #\n",
        "           #layers.Dense(128, input_shape = (len(X_train[0]), ), activation=\"relu\", name=\"layer1\"),\n",
        "           #layers.Dense(64, activation=\"relu\", name=\"layer2\"),\n",
        "           #layers.Dense(32, activation=\"relu\", name=\"layer3\"),\n",
        "           #layers.Dense(16, activation=\"relu\", name=\"layer4\"),\n",
        "           #layers.Dense(8, activation=\"relu\", name=\"layer5\"),\n",
        "           #layers.Dense(3, activation=\"relu\", name=\"layer6\"),\n",
        "           #\n",
        "           #layers.Dense((32), input_shape = (len(X_train[0]), ), activation=\"relu\", name=\"layer1\"),\n",
        "           #layers.Dense(16, activation=\"relu\", name=\"layer2\"),\n",
        "           #layers.Dense(3, activation=\"sigmoid\", name=\"layer3\"),\n",
        "        ]\n",
        "    )\n",
        "    \n",
        "    # model.summary()\n",
        "\n",
        "    model.compile(\n",
        "        loss=tf.keras.losses.SparseCategoricalCrossentropy(),\n",
        "        metrics=['accuracy'],\n",
        "        optimizer='adam',\n",
        "    )\n",
        "    \n",
        "\n",
        "    history = model.fit(X_train[train_index], \n",
        "                        y_train[train_index], \n",
        "                        batch_size = 1024, \n",
        "                        epochs = 20, \n",
        "                        #class_weight = class_weight, \n",
        "                        validation_data = (X_train[val_index], y_train[val_index]),\n",
        "                        #callbacks = callbacks_list,\n",
        "                        verbose = 2)\n",
        "    \n",
        "    scores = model.evaluate(X_test, y_test, verbose=2)\n",
        "    \n",
        "    #model.save(newpath + r'\\fold-' + str(fold_no) + '.hdf5') \n",
        "\n",
        "    print(f'Score for fold {fold_no}: {model.metrics_names[0]} of {scores[0]}; {model.metrics_names[1]} of {scores[1]*100}%')\n",
        "    accuracy_per_fold.append(scores[1] * 100)\n",
        "    loss_per_fold.append(scores[0])\n",
        "\n",
        "    # Increase fold number\n",
        "    fold_no = fold_no + 1\n",
        "\n",
        "# Average scores\n",
        "print('------------------------------------------------------------------------')\n",
        "print('Score per fold')\n",
        "for i in range(len(accuracy_per_fold)):\n",
        "  print('------------------------------------------------------------------------')\n",
        "  print(f'> Fold {i+1} - Loss: {loss_per_fold[i]} - Accuracy: {accuracy_per_fold[i]}%')\n",
        "print('------------------------------------------------------------------------')\n",
        "print('Average scores for all folds:')\n",
        "print(f'> Accuracy: {np.mean(accuracy_per_fold)} (+- {np.std(accuracy_per_fold)})')\n",
        "print(f'> Loss: {np.mean(loss_per_fold)}')\n",
        "print('------------------------------------------------------------------------')"
      ],
      "execution_count": null,
      "outputs": [
        {
          "output_type": "stream",
          "text": [
            "Fold: 1\n",
            "Epoch 1/20\n"
          ],
          "name": "stdout"
        }
      ]
    }
  ]
}